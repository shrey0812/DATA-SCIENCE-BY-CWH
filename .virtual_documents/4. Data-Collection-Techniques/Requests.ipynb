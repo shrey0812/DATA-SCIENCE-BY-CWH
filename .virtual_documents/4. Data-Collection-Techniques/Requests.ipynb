import requests


a = requests.get("https://quotes.toscrape.com/")


with open(f"htmls/page1.html","w",encoding='utf-8') as fa:
    fa.write(a.text)


for i in range(1,11):
    with open(f"htmls/page{i}.html","w",encoding='utf-8') as fa:
        a = requests.get(f"https://quotes.toscrape.com/page/{i}/")
        fa.write(a.text)
        print(f"Download page {i} successfully")



