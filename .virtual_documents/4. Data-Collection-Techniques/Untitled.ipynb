from bs4 import BeautifulSoup


with open("htmls/page1.html",encoding='utf-8') as f:
    content = f.read()


soup = BeautifulSoup(content,"html.parser")


soup.h1


soup.h1.text


soup.find('p')


soup.find('p',class_="description")


h3s = soup.find_all("h3")


h3



