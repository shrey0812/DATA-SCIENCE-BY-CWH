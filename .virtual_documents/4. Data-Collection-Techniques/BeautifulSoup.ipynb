from bs4 import BeautifulSoup


with open("htmls/page1.html",encoding='utf-8') as f:
    content = f.read()


soup = BeautifulSoup(content,"html.parser")


soup.h1


soup.h1.text


soup.find('p')


soup.find('p',class_="description")


h3s = soup.find_all('h3')


h3s


articles = soup.select('article.product_pod')


items = []
for article in articles:
    title = article.find('h3').find('a').text
    price = article.select_one("p.price_color").text.split("£")[1]
    rating_elements = article.select_one("p.star-rating")
    rating = rating_elements['class'][1]
    items.append([title,price,rating])


items


import pandas as pd


df = pd.DataFrame(items,columns=['book title','price','rating'])


df


df.to_csv('data.csv',index=False)



