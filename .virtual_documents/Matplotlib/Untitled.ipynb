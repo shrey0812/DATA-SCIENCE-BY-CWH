import matplotlib.pyplot as plt


years = [1990, 1992, 1994, 1996, 1998, 2000, 2003, 2005, 2007, 2010]
runs =  [500, 700, 1100, 1500, 1800, 1200, 1700, 1300, 900, 1500]


plt.bar(years,runs)
plt.xlabel("Year")
plt.ylabel("Runs")
plt.title("Sachin Tendulkar's Yearly runs")
plt.show()


import numpy as np


sachin = [500, 700, 1100, 1500, 1800, 1200, 1700, 1300, 900, 1500]
sehwag = [0, 200, 900, 1400, 1600, 1800, 1500, 1100, 800, 0]
kohli  = [0, 0, 500, 800, 1100, 1300, 1500, 1800, 1900, 2100]


x = np.arange(len(years))


width = 0.25


x


plt.bar(x-width,sachin,width=width,label= "Sachin")
plt.bar(x,sehwag,width=width,label= "Sehwag")
plt.bar(x+width,kohli,width=width,label= "Kohli")
plt.legend()
plt.xlabel("Year")
plt.ylabel("Runs")
plt.title("Runs Comparison")
plt.xticks(x,years) # shows actual years 
plt.tight_layout()


players = ["Sachin", "Sehwag", "Kohli", "Yuvraj"]
runs_5yrs = [500+700+1100+1500+1800, 0+200+900+1400+1600, 0+0+500+800+1100, 300+600+800+1100+900]

plt.barh(players,runs_5yrs,color="skyblue")
plt.xlabel("Total Runs in First 5 Years")
plt.title("First 5-Year Performance of Indian Batsmen")
plt.tight_layout()
plt.show()


players = ["Sachin", "Sehwag", "Kohli"]
runs = [1500, 1200, 1800]
 
plt.bar(players, runs, color="skyblue")
 
# Add labels on top of bars
for i in range(len(players)):
    plt.text(i, runs[i]/2, str(runs[i]), ha='center')
 
plt.ylabel("Runs")
plt.title("Runs Scored by Players")
plt.tight_layout()
plt.show()



