import seaborn as sns


sns.get_dataset_names()


tips = sns.load_dataset('tips')


tips.head()


type(tips)


tips.info()


sns.lineplot(x="total_bill",y="tip",data=tips)


sns.histplot(x='total_bill',y='tip',data=tips,bins=5)


sns.scatterplot(x='total_bill',y='tip',data=tips)


sns.boxplot(x="day", y="total_bill", data=tips)
import matplotlib.pyplot as plt
plt.title('Boxplot of Total Bill per Day')
plt.show()


flights = sns.load_dataset('flights')
pivot_table = flights.pivot("month", "year", "passengers")

sns.heatmap(pivot_table, annot=True, fmt="d", cmap="YlGnBu")
plt.title('Heatmap of Passengers')
plt.show()



