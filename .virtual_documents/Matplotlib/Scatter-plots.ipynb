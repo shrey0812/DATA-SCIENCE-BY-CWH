import matplotlib.pyplot as plt


study_hours = [1,2,3,4,5,6,7,8,9]


exam_marks = [40,45,90,55,60,65,25,85,90]


plt.scatter(study_hours,exam_marks)
plt.ylabel('Marks Scored')
plt.xlabel("Hours Studied")
plt.title("Study Hours vs Marks Scored")
plt.grid(True)


colors = ['red'if score<50 else 'green' for score in exam_marks]
sizes = [score*2 for score in exam_marks]
plt.scatter(study_hours,exam_marks,c=colors,s=sizes)
plt.ylabel('Marks Scored')
plt.xlabel("Hours Studied")
plt.title("Study Hours vs Marks Scored")
plt.grid(True)


colors = ['red'if score<50 else 'green' for score in exam_marks]
plt.scatter(study_hours,exam_marks,c=exam_marks,cmap='viridis')
plt.ylabel('Marks Scored')
plt.colorbar(label='Score')
plt.xlabel("Hours Studied")
plt.title("Study Hours vs Marks Scored")
plt.grid(True)


colors = ['red'if score<50 else 'green' for score in exam_marks]
plt.scatter(study_hours,exam_marks,c=exam_marks,cmap='viridis')
plt.ylabel('Marks Scored')
# Add labels
for i in range(len(study_hours)):
    plt.annotate(f'St {i+1}', (study_hours[i]+0.2, exam_marks[i]-3))
plt.colorbar(label='Score')
plt.xlabel("Hours Studied")
plt.title("Study Hours vs Marks Scored")
plt.grid(True)


class_a_hours = [2, 4, 6, 8]
class_a_scores = [45, 55, 65, 85]
 
class_b_hours = [1, 3, 5, 7, 9]
class_b_scores = [40, 50, 60, 70, 90]


plt.scatter(class_a_hours,class_a_scores,label='Class A',color='blue')
plt.scatter(class_b_hours,class_b_scores,label='Class B',color='orange')



