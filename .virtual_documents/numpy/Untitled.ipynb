import numpy as np
arr = np.array([[1,2,3],[4,5,6],[7,8,9]])
arr


arr[0]


arr[1]


np.sum(arr,axis=0)


np.sum(arr,axis=1)


arr[0][1]


arr[0,1]


arr[0:2,1:3]


arr3D = np.array([[[1, 2, 3], [4, 5, 6]],
                  [[7, 8, 9], [10, 11, 12]]])


arr3D


arr3D.shape


arr3D[:,0,:]


first_col = arr[:,0]
first_col


arr3D[:,0,:] = 0


arr3D



