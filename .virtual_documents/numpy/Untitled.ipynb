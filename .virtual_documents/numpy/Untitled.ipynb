


import numpy as np


arr = np.array([45,32,67,89,19,32,45])


np.mean(arr)


np.min(arr)


np.max(arr)


np.std(arr)


np.var(arr)


np.sum(arr)


np.prod(arr)


np.median(arr)


np.percentile(arr,50)


np.argmin(arr)


np.argmax(arr)


np.unique(arr)


np.cumsum(arr)



