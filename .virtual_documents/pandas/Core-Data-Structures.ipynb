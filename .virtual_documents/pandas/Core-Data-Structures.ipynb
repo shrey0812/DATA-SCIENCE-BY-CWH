import pandas as pd


s1 = pd.Series([45,76,87,43,97,56,85])


type(s1)


print(s1)


s2 = pd.Series([45,76,87,43,97,56,85], index = ["Rohan","Adi","Shrey","Kulwendra","Tanmay","Mayank","Monu"])


s2


s2["Shrey"]


s2["Rohan"]


data = {
    "name": ["Alice", "Bob", "Charlie"],
    "age": [25, 30, 35],
    "city": ["Delhi", "Mumbai", "Bangalore"]
}

df = pd.DataFrame(data)
df


df.index


df.columns



