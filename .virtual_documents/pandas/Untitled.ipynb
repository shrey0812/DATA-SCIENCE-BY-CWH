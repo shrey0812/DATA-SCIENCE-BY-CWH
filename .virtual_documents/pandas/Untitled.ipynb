import pandas as pd


data = [
    ["Alice", 25],
    ["Bob", 30],
    ["Charlie", 35],
    ["Shrey",22],
    ["Kulwendra",23],
    ["Adi",24]
]


data


pd.DataFrame(data,columns = ["Name","Marks"])



