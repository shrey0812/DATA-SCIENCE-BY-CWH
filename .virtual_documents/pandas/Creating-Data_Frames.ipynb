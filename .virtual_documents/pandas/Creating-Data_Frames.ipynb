import pandas as pd


data1 = [
    ["Alice", 25],
    ["Bob", 30],
    ["Charlie", 35],
    ["Shrey",22],
    ["Kulwendra",23],
    ["Adi",24]
]


data1


pd.DataFrame(data1,columns = ["Name","Marks"])


data2 = {
    "Name": ["Alice", "Bob", "Charlie"],
    "Age": [25, 30, 35],
    "Marks":[67,87,90]
}


df2 = pd.DataFrame(data2)


df2


import numpy as np


arr = np.array([[1,2],[3,4],[5,6]])
arr


pd.DataFrame(arr,columns=["A","B"])


df = pd.read_excel("data.xlsx")


df


df = pd.read_csv("data.csv")


df


df = pd.read_json("data.json")
df


df = pd.read_csv("https://raw.githubusercontent.com/mwaskom/seaborn-data/master/tips.csv")
df


df.head()


df.tail()


df.info()


df.describe()


df.columns


df.shape



