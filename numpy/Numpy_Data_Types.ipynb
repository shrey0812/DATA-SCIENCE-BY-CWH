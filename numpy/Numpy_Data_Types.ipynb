{
 "cells": [
  {
   "cell_type": "code",
   "execution_count": 2,
   "id": "a7d91626-baff-4837-a993-7fc8336c2398",
   "metadata": {},
   "outputs": [],
   "source": [
    "import numpy as np"
   ]
  },
  {
   "cell_type": "code",
   "execution_count": 8,
   "id": "ede7ab8c-31da-482a-a9c1-129e5007c217",
   "metadata": {},
   "outputs": [],
   "source": [
    "arr = np.array([23,45,56,63,3])"
   ]
  },
  {
   "cell_type": "code",
   "execution_count": 9,
   "id": "4dd254c7-0719-44f4-b59b-57988960da48",
   "metadata": {},
   "outputs": [
    {
     "data": {
      "text/plain": [
       "dtype('int32')"
      ]
     },
     "execution_count": 9,
     "metadata": {},
     "output_type": "execute_result"
    }
   ],
   "source": [
    "arr.dtype"
   ]
  },
  {
   "cell_type": "code",
   "execution_count": 10,
   "id": "760a4767-aa33-43e5-8706-ecbc1a1d4a40",
   "metadata": {},
   "outputs": [
    {
     "data": {
      "text/plain": [
       "array([23., 45., 56., 63.,  3.])"
      ]
     },
     "execution_count": 10,
     "metadata": {},
     "output_type": "execute_result"
    }
   ],
   "source": [
    "arr.astype(\"float64\")"
   ]
  },
  {
   "cell_type": "code",
   "execution_count": 14,
   "id": "63eca899-c98f-43d6-acbd-f1d9ce32d6f4",
   "metadata": {},
   "outputs": [],
   "source": [
    "arr2 = np.array([23,45,56,63,30],dtype=\"float32\")     "
   ]
  },
  {
   "cell_type": "code",
   "execution_count": 15,
   "id": "22572406-8d1a-49b0-9667-d98fc27125e8",
   "metadata": {},
   "outputs": [
    {
     "data": {
      "text/plain": [
       "array([23., 45., 56., 63., 30.], dtype=float32)"
      ]
     },
     "execution_count": 15,
     "metadata": {},
     "output_type": "execute_result"
    }
   ],
   "source": [
    "arr2"
   ]
  },
  {
   "cell_type": "code",
   "execution_count": 16,
   "id": "426105f4-eab3-4d85-81bd-5edf31bb4f53",
   "metadata": {},
   "outputs": [
    {
     "name": "stdout",
     "output_type": "stream",
     "text": [
      "[1000000 2000000 3000000]\n",
      "int32\n"
     ]
    }
   ],
   "source": [
    "arr_large = np.array([1000000, 2000000, 3000000], dtype=np.int64)\n",
    "arr_small = arr_large.astype(np.int32)  # Downcasting to a smaller dtype\n",
    "print(arr_small)  # Output: [1000000 2000000 3000000]\n",
    "print(arr_small.dtype)  # Output: int32"
   ]
  },
  {
   "cell_type": "code",
   "execution_count": 17,
   "id": "eea19fc7-a334-4861-abc9-ec0c21df6a29",
   "metadata": {},
   "outputs": [
    {
     "name": "stdout",
     "output_type": "stream",
     "text": [
      "24\n",
      "12\n"
     ]
    }
   ],
   "source": [
    "arr_int64 = np.array([1, 2, 3], dtype=np.int64)\n",
    "arr_int32 = np.array([1, 2, 3], dtype=np.int32)\n",
    "\n",
    "print(arr_int64.nbytes)  # Output: 24 bytes (3 elements * 8 bytes each)\n",
    "print(arr_int32.nbytes)  # Output: 12 bytes (3 elements * 4 bytes each)"
   ]
  },
  {
   "cell_type": "code",
   "execution_count": null,
   "id": "5f736c64-7e18-4c85-8e3e-ca600683fb72",
   "metadata": {},
   "outputs": [],
   "source": []
  }
 ],
 "metadata": {
  "kernelspec": {
   "display_name": "Python [conda env:base] *",
   "language": "python",
   "name": "conda-base-py"
  },
  "language_info": {
   "codemirror_mode": {
    "name": "ipython",
    "version": 3
   },
   "file_extension": ".py",
   "mimetype": "text/x-python",
   "name": "python",
   "nbconvert_exporter": "python",
   "pygments_lexer": "ipython3",
   "version": "3.12.7"
  }
 },
 "nbformat": 4,
 "nbformat_minor": 5
}
