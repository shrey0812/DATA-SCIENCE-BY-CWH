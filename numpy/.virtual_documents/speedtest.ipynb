# Using python lists
import numpy as np
import time

size = 10_000_000
start = time.time()
l1= list(range(size))
l2= list(range(size))
add = [x+y for (x,y) in zip(l1,l2)]
end = time.time()
end-start


# using numpy array
import numpy as np
import time

size = 10_000_000
start = time.time()
l1= np.array(range(size))
l2= np.array(range(size))
add = l1+l2
end = time.time()
end-start


np.array([1,2,3,4,5])


arr = np.array([[1,2,3],[4,5,6]])


type(arr)


arr.shape


# Memory efficiency
import sys
list_data = list(range(1000))
numpy_data = np.array(list_data)
print("Python list size: ", sys.getsizeof(list_data)*len(list_data),"bytes")
print("Numpy array size: ",numpy_data.nbytes,"bytes")


list_squares = [i ** 2 for i in list_data]


numpy_squares = numpy_data ** 2



