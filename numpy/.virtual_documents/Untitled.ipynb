import numpy as np 
arr = np.array([[1,2,3],[4,5,6],[7,8,9],[10,11,12]])


arr


flat = arr.flatten()


flat


flat[0]


flat[1]


flat[4]


flat[3:6]


flat[:6] # same as flat[0:5]


flat[3:] # same as flat[3:len()]


flat[::3]


flat[2:8:2]


flat


b = flat[3:7]
b


b[0] = 4444
b


flat


b = flat[2:8].copy()


b


b[0] = 66666


b


flat


flat[3] = 4


flat


arr = np.array([1,54,2,35,64,12,87,443,97,100])


arr[[1,4,6]]


arr[arr>50]


# Create a 3X3 array filled with random numbers and print its shape
ex1 = np.array([[1,2,3],[4,5,6],[7,8,9]])
ex1


# convert an array of float to integers
ex2 = np.array([1.1,2.2,3.3,4.4,5.5,6.6])
ex2


ex2 = ex2.astype('int32')
ex2


# use fancy index to extract even number from array of 1 to 6
ex3 = np.array([1,2,3,4,5,6])
ex3[[1,3,5]]


# reshape 1d array to array of 3X3 matrix
ex4 = np.array([1,2,3,4,5,6,7,8,9])
ex4.reshape((3,3))


# use boolean masking to filter number greater than 50 in a array
ex5 = np.array([1,34,56,76,35,89,100,567,23,45])
ex5(ex5>50)



