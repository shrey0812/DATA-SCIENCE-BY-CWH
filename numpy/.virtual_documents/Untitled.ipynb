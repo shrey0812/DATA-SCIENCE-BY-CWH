import numpy as np


pip install numpy


arr = np.array([1,2,3,4])


arr


np.zeros((3,4))


np.zeros(7)


np.ones((4,5))


np.full((4,6),9)


np.eye(4)


np.arange(0,100,8)


np.linspace(0,10,5)


myarr = np.array([[1,2,3],[4,5,6],[7,8,9],[10,11,12]])


myarr


myarr.shape


myarr.size


myarr.ndim


myarr.dtype


myarrf = np.array([[1,2,3],[4,5,6],[7,8,9],[10,11,12]],dtype = 'float32')


myarrf


n = myarrf.astype('float64')


n.dtype


myarrf.dtype


myarr = np.array([[1,2,3],[4,5,6],[7,8,9],[10,11,12]])


myarr.shape


reshaped = myarr.reshape((3,4))


reshaped


myarr


myarr.reshape((2,6))


myarr.flatten



