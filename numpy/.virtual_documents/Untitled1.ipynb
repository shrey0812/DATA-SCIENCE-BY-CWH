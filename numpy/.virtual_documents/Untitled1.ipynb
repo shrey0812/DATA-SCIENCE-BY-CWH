# Using python lists
import numpy as np
import time

size = 1_000_000
start = time.time()
l1= list(range(size))
l2= list(range(size))
add = [x+y for (x,y) in zip(l1,l2)]
end = time.time()
end-start


# using numpy array
import numpy as np
import time

size = 1_000_000
start = time.time()
l1= np.array(list(range(size)))
l2= np.array(list(range(size)))
add = l1+l2
end = time.time()
end-start



