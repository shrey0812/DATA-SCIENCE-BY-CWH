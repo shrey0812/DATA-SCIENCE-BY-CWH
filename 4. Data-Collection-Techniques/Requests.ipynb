{
 "cells": [
  {
   "cell_type": "code",
   "execution_count": 1,
   "id": "1b1e6a67-531e-4012-96d1-848f61e4f456",
   "metadata": {},
   "outputs": [],
   "source": [
    "import requests"
   ]
  },
  {
   "cell_type": "code",
   "execution_count": 2,
   "id": "69013433-7925-4963-8182-08ac88fb6383",
   "metadata": {},
   "outputs": [],
   "source": [
    "a = requests.get(\"https://books.toscrape.com/\")"
   ]
  },
  {
   "cell_type": "code",
   "execution_count": 5,
   "id": "be351acb-66e5-4a31-9b56-5302d49be2d0",
   "metadata": {},
   "outputs": [],
   "source": [
    "with open(f\"htmls/page1.html\",\"w\",encoding='utf-8') as fa:\n",
    "    fa.write(a.text)"
   ]
  },
  {
   "cell_type": "code",
   "execution_count": 5,
   "id": "d0bfc88f-306e-45e6-824b-56ea793aceea",
   "metadata": {},
   "outputs": [
    {
     "name": "stdout",
     "output_type": "stream",
     "text": [
      "Download page 1 successfully\n",
      "Download page 2 successfully\n",
      "Download page 3 successfully\n",
      "Download page 4 successfully\n",
      "Download page 5 successfully\n",
      "Download page 6 successfully\n",
      "Download page 7 successfully\n",
      "Download page 8 successfully\n",
      "Download page 9 successfully\n",
      "Download page 10 successfully\n",
      "Download page 11 successfully\n",
      "Download page 12 successfully\n",
      "Download page 13 successfully\n",
      "Download page 14 successfully\n",
      "Download page 15 successfully\n",
      "Download page 16 successfully\n",
      "Download page 17 successfully\n",
      "Download page 18 successfully\n",
      "Download page 19 successfully\n",
      "Download page 20 successfully\n",
      "Download page 21 successfully\n",
      "Download page 22 successfully\n",
      "Download page 23 successfully\n",
      "Download page 24 successfully\n",
      "Download page 25 successfully\n",
      "Download page 26 successfully\n",
      "Download page 27 successfully\n",
      "Download page 28 successfully\n",
      "Download page 29 successfully\n",
      "Download page 30 successfully\n",
      "Download page 31 successfully\n",
      "Download page 32 successfully\n",
      "Download page 33 successfully\n",
      "Download page 34 successfully\n",
      "Download page 35 successfully\n",
      "Download page 36 successfully\n",
      "Download page 37 successfully\n",
      "Download page 38 successfully\n",
      "Download page 39 successfully\n",
      "Download page 40 successfully\n",
      "Download page 41 successfully\n",
      "Download page 42 successfully\n",
      "Download page 43 successfully\n",
      "Download page 44 successfully\n",
      "Download page 45 successfully\n",
      "Download page 46 successfully\n",
      "Download page 47 successfully\n",
      "Download page 48 successfully\n",
      "Download page 49 successfully\n"
     ]
    }
   ],
   "source": [
    "for i in range(1,50):\n",
    "    with open(f\"htmls/page{i}.html\",\"w\",encoding='utf-8') as fa:\n",
    "        a = requests.get(f\"https://books.toscrape.com/catalogue/page-{i}.html\")\n",
    "        fa.write(a.text)\n",
    "        print(f\"Download page {i} successfully\")"
   ]
  },
  {
   "cell_type": "code",
   "execution_count": null,
   "id": "66abaa5a-2e83-4ba9-ae6f-f1c07d8bcfb5",
   "metadata": {},
   "outputs": [],
   "source": []
  }
 ],
 "metadata": {
  "kernelspec": {
   "display_name": "Python [conda env:base] *",
   "language": "python",
   "name": "conda-base-py"
  },
  "language_info": {
   "codemirror_mode": {
    "name": "ipython",
    "version": 3
   },
   "file_extension": ".py",
   "mimetype": "text/x-python",
   "name": "python",
   "nbconvert_exporter": "python",
   "pygments_lexer": "ipython3",
   "version": "3.12.7"
  }
 },
 "nbformat": 4,
 "nbformat_minor": 5
}
