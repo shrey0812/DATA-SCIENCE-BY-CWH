{
 "cells": [
  {
   "cell_type": "code",
   "execution_count": 1,
   "id": "f0bce485-faf3-4ef1-a378-2141e4df0c08",
   "metadata": {},
   "outputs": [],
   "source": [
    "import numpy as np"
   ]
  },
  {
   "cell_type": "code",
   "execution_count": 2,
   "id": "4ec60690-5266-46bd-a206-8f943eb3da55",
   "metadata": {},
   "outputs": [
    {
     "data": {
      "text/plain": [
       "array([ 1,  4,  9, 16, 25])"
      ]
     },
     "execution_count": 2,
     "metadata": {},
     "output_type": "execute_result"
    }
   ],
   "source": [
    "arr = np.array([1,2,3,4,5])\n",
    "result = arr ** 2\n",
    "result"
   ]
  },
  {
   "cell_type": "code",
   "execution_count": 4,
   "id": "8ba6bb50-99c1-4c83-ae74-c60c61d0dddb",
   "metadata": {},
   "outputs": [
    {
     "data": {
      "text/plain": [
       "array([11, 14, 19, 26, 35])"
      ]
     },
     "execution_count": 4,
     "metadata": {},
     "output_type": "execute_result"
    }
   ],
   "source": [
    "result + 10\n",
    "# no extra memory is used uses broadcasting"
   ]
  },
  {
   "cell_type": "code",
   "execution_count": 5,
   "id": "afeb9d56-f803-43e9-a6d9-376f777da94f",
   "metadata": {},
   "outputs": [],
   "source": [
    "arr1 = np.array([1,2,3])\n",
    "arr2 = np.array([4,5,6])\n",
    "result = arr1 + arr2"
   ]
  },
  {
   "cell_type": "code",
   "execution_count": 6,
   "id": "bda44f6a-20d6-4348-9c0c-ccb259877fdf",
   "metadata": {},
   "outputs": [
    {
     "data": {
      "text/plain": [
       "array([5, 7, 9])"
      ]
     },
     "execution_count": 6,
     "metadata": {},
     "output_type": "execute_result"
    }
   ],
   "source": [
    "result"
   ]
  },
  {
   "cell_type": "code",
   "execution_count": 7,
   "id": "ba0b14a6-6d5f-497e-8539-e3f1010d3d74",
   "metadata": {},
   "outputs": [],
   "source": [
    "arr1 = np.array([[1,2,3],[7,8,9]])\n",
    "arr2 = np.array([4,5,6])\n",
    "result = arr1 + arr2"
   ]
  },
  {
   "cell_type": "code",
   "execution_count": 8,
   "id": "e0cf2d92-a6b9-4bc3-8940-550791e555b0",
   "metadata": {},
   "outputs": [
    {
     "data": {
      "text/plain": [
       "array([[ 5,  7,  9],\n",
       "       [11, 13, 15]])"
      ]
     },
     "execution_count": 8,
     "metadata": {},
     "output_type": "execute_result"
    }
   ],
   "source": [
    "result"
   ]
  },
  {
   "cell_type": "code",
   "execution_count": 9,
   "id": "e9503773-6846-47fd-b317-93fe0e104e20",
   "metadata": {},
   "outputs": [],
   "source": [
    "# Simulating a dataset (5 samples, 3 features)\n",
    "data = np.array([[10, 20, 30],\n",
    "                 [15, 25, 35],\n",
    "                 [20, 30, 40],\n",
    "                 [25, 35, 45],\n",
    "                 [30, 40, 50]])"
   ]
  },
  {
   "cell_type": "code",
   "execution_count": 10,
   "id": "11b7dcc7-23bc-4f7d-b7fd-f95bd42db41e",
   "metadata": {},
   "outputs": [],
   "source": [
    "mean = data.mean(axis =0)"
   ]
  },
  {
   "cell_type": "code",
   "execution_count": 11,
   "id": "87625ae7-3dd0-4272-8ac8-ed6978740188",
   "metadata": {},
   "outputs": [],
   "source": [
    "std = data.std(axis = 0)"
   ]
  },
  {
   "cell_type": "code",
   "execution_count": 12,
   "id": "a825209a-63bf-441f-9746-e07f3c6754a8",
   "metadata": {},
   "outputs": [
    {
     "data": {
      "text/plain": [
       "array([[-1.41421356, -1.41421356, -1.41421356],\n",
       "       [-0.70710678, -0.70710678, -0.70710678],\n",
       "       [ 0.        ,  0.        ,  0.        ],\n",
       "       [ 0.70710678,  0.70710678,  0.70710678],\n",
       "       [ 1.41421356,  1.41421356,  1.41421356]])"
      ]
     },
     "execution_count": 12,
     "metadata": {},
     "output_type": "execute_result"
    }
   ],
   "source": [
    "normalized_data = (data-mean)/std\n",
    "normalized_data"
   ]
  },
  {
   "cell_type": "code",
   "execution_count": null,
   "id": "0619aa03-067c-4d55-96d0-32184863cf22",
   "metadata": {},
   "outputs": [],
   "source": []
  }
 ],
 "metadata": {
  "kernelspec": {
   "display_name": "Python [conda env:base] *",
   "language": "python",
   "name": "conda-base-py"
  },
  "language_info": {
   "codemirror_mode": {
    "name": "ipython",
    "version": 3
   },
   "file_extension": ".py",
   "mimetype": "text/x-python",
   "name": "python",
   "nbconvert_exporter": "python",
   "pygments_lexer": "ipython3",
   "version": "3.12.7"
  }
 },
 "nbformat": 4,
 "nbformat_minor": 5
}
