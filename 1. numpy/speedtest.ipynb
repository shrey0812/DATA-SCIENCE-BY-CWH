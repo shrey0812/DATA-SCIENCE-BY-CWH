{
 "cells": [
  {
   "cell_type": "code",
   "execution_count": 5,
   "id": "e7e76319-ffcf-4138-8375-4cdc5a99cba1",
   "metadata": {},
   "outputs": [
    {
     "data": {
      "text/plain": [
       "2.760524034500122"
      ]
     },
     "execution_count": 5,
     "metadata": {},
     "output_type": "execute_result"
    }
   ],
   "source": [
    "# Using python lists\n",
    "import numpy as np\n",
    "import time\n",
    "\n",
    "size = 10_000_000\n",
    "start = time.time()\n",
    "l1= list(range(size))\n",
    "l2= list(range(size))\n",
    "add = [x+y for (x,y) in zip(l1,l2)]\n",
    "end = time.time()\n",
    "end-start"
   ]
  },
  {
   "cell_type": "code",
   "execution_count": 7,
   "id": "f92e4172-375a-4380-9bc3-f2ebc3a0d481",
   "metadata": {},
   "outputs": [
    {
     "data": {
      "text/plain": [
       "1.7469916343688965"
      ]
     },
     "execution_count": 7,
     "metadata": {},
     "output_type": "execute_result"
    }
   ],
   "source": [
    "# using numpy array\n",
    "import numpy as np\n",
    "import time\n",
    "\n",
    "size = 10_000_000\n",
    "start = time.time()\n",
    "l1= np.array(range(size))\n",
    "l2= np.array(range(size))\n",
    "add = l1+l2\n",
    "end = time.time()\n",
    "end-start"
   ]
  },
  {
   "cell_type": "code",
   "execution_count": 10,
   "id": "5955f8dc-7a49-43eb-a7b2-1671e858102f",
   "metadata": {},
   "outputs": [
    {
     "data": {
      "text/plain": [
       "array([1, 2, 3, 4, 5])"
      ]
     },
     "execution_count": 10,
     "metadata": {},
     "output_type": "execute_result"
    }
   ],
   "source": [
    "np.array([1,2,3,4,5])"
   ]
  },
  {
   "cell_type": "code",
   "execution_count": 14,
   "id": "531a9728-6b7b-4d36-80b5-02de64f7f65c",
   "metadata": {},
   "outputs": [],
   "source": [
    "arr = np.array([[1,2,3],[4,5,6]])"
   ]
  },
  {
   "cell_type": "code",
   "execution_count": 15,
   "id": "3e4d6355-7273-4611-921a-54df33236fef",
   "metadata": {},
   "outputs": [
    {
     "data": {
      "text/plain": [
       "numpy.ndarray"
      ]
     },
     "execution_count": 15,
     "metadata": {},
     "output_type": "execute_result"
    }
   ],
   "source": [
    "type(arr)"
   ]
  },
  {
   "cell_type": "code",
   "execution_count": 17,
   "id": "f8c2566a-7cd8-4053-b556-190fbbb04a61",
   "metadata": {},
   "outputs": [
    {
     "data": {
      "text/plain": [
       "(2, 3)"
      ]
     },
     "execution_count": 17,
     "metadata": {},
     "output_type": "execute_result"
    }
   ],
   "source": [
    "arr.shape"
   ]
  },
  {
   "cell_type": "code",
   "execution_count": 31,
   "id": "831a093a-a458-4c18-823e-1f43861ab241",
   "metadata": {},
   "outputs": [],
   "source": [
    "# Memory efficiency\n",
    "import sys\n",
    "list_data = list(range(10000000))\n",
    "numpy_data = np.array(list_data)\n",
    "#print(\"Python list size: \", sys.getsizeof(list_data)*len(list_data),\"bytes\")\n",
    "#print(\"Numpy array size: \",numpy_data.nbytes,\"bytes\")"
   ]
  },
  {
   "cell_type": "code",
   "execution_count": 32,
   "id": "0e5468a4-ea6f-434a-b6ef-d1e3d03becf4",
   "metadata": {},
   "outputs": [
    {
     "data": {
      "text/plain": [
       "0.9653584957122803"
      ]
     },
     "execution_count": 32,
     "metadata": {},
     "output_type": "execute_result"
    }
   ],
   "source": [
    "start = time.time()\n",
    "list_squares = [i ** 2 for i in list_data]\n",
    "end = time.time()\n",
    "end-start"
   ]
  },
  {
   "cell_type": "code",
   "execution_count": 33,
   "id": "2ec2f7c4-6acc-43b4-8680-dcf92ff20da4",
   "metadata": {},
   "outputs": [
    {
     "data": {
      "text/plain": [
       "0.037178993225097656"
      ]
     },
     "execution_count": 33,
     "metadata": {},
     "output_type": "execute_result"
    }
   ],
   "source": [
    "start = time.time()\n",
    "numpy_squares = numpy_data ** 2\n",
    "end = time.time()\n",
    "end-start"
   ]
  },
  {
   "cell_type": "code",
   "execution_count": null,
   "id": "0211671d-0451-4413-9072-3735caf8b848",
   "metadata": {},
   "outputs": [],
   "source": []
  }
 ],
 "metadata": {
  "kernelspec": {
   "display_name": "Python [conda env:base] *",
   "language": "python",
   "name": "conda-base-py"
  },
  "language_info": {
   "codemirror_mode": {
    "name": "ipython",
    "version": 3
   },
   "file_extension": ".py",
   "mimetype": "text/x-python",
   "name": "python",
   "nbconvert_exporter": "python",
   "pygments_lexer": "ipython3",
   "version": "3.12.7"
  }
 },
 "nbformat": 4,
 "nbformat_minor": 5
}
