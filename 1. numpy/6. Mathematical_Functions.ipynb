{
 "cells": [
  {
   "cell_type": "markdown",
   "id": "07a5e60b-2fc1-48ed-8dd2-eacf16165974",
   "metadata": {},
   "source": [
    "# Built in Mathematical Functions in NumPy\n",
    "## Here are some common NumPy methods that are frequently used for statistical and mathematical operations:\n",
    "\n",
    "#### np.mean() – Compute the mean (average) of an array.\n",
    "```python\n",
    "np.mean(arr)\n",
    "```\n",
    "\n",
    "#### np.std() – Compute the standard deviation of an array.\n",
    "```python \n",
    "np.std(arr) \n",
    "```\n",
    "\n",
    "#### np.var() – Compute the variance of an array.\n",
    "```python \n",
    "np.var(arr) \n",
    "```\n",
    "\n",
    "#### np.min() – Compute the minimum value of an array.\n",
    "```python \n",
    "np.min(arr)\n",
    "```\n",
    "\n",
    "#### np.max() – Compute the maximum value of an array.\n",
    "```python \n",
    "np.max(arr)\n",
    "```\n",
    "\n",
    "#### np.sum() – Compute the sum of all elements in an array.\n",
    "```python \n",
    "np.sum(arr)\n",
    "```\n",
    "\n",
    "#### np.prod() – Compute the product of all elements in an array.\n",
    "```python \n",
    "np.prod(arr)\n",
    "```\n",
    "\n",
    "#### np.percentile() – Compute the percentile of an array.\n",
    "```python \n",
    "np.percentile(arr, 50)  # For the 50th percentile (median)\n",
    "```\n",
    "\n",
    "#### np.argmin() – Return the index of the minimum value in an array.\n",
    "```python \n",
    "np.argmin(arr)\n",
    "```\n",
    "\n",
    "#### np.argmax() – Return the index of the maximum value in an array.\n",
    "```python \n",
    "np.argmax(arr)\n",
    "```\n",
    "\n",
    "#### np.corrcoef() – Compute the correlation coefficient matrix of two arrays.\n",
    "```python \n",
    "np.corrcoef(arr1, arr2)\n",
    "```\n",
    "\n",
    "#### np.unique() – Find the unique elements of an array.\n",
    "```python \n",
    "np.unique(arr)\n",
    "```\n",
    "\n",
    "#### np.diff() – Compute the n-th differences of an array.\n",
    "```python \n",
    "np.diff(arr)\n",
    "```\n",
    "\n",
    "#### np.cumsum() – Compute the cumulative sum of an array.\n",
    "```python \n",
    "np.cumsum(arr)\n",
    "```\n",
    "\n",
    "#### np.linspace() – Create an array with evenly spaced numbers over a specified interval.\n",
    "```python \n",
    "np.linspace(0, 10, 5)  # 5 numbers from 0 to 10\n",
    "```\n",
    "\n",
    "#### np.log() – Compute the natural logarithm of an array.\n",
    "```python \n",
    "np.log(arr)\n",
    "```\n",
    "\n",
    "#### np.exp() – Compute the exponential of an array.\n",
    "```python \n",
    "np.exp(arr)\n",
    "```"
   ]
  },
  {
   "cell_type": "code",
   "execution_count": 1,
   "id": "f449067d-1477-4a13-ac2d-d28beb3286f1",
   "metadata": {},
   "outputs": [],
   "source": [
    "import numpy as np"
   ]
  },
  {
   "cell_type": "code",
   "execution_count": 21,
   "id": "6e862564-1c33-48c2-aa4c-f53c23ddf56a",
   "metadata": {},
   "outputs": [],
   "source": [
    "arr = np.array([45,32,67,89,19,32,45])"
   ]
  },
  {
   "cell_type": "code",
   "execution_count": 22,
   "id": "8041659c-eb6b-4465-97eb-2e840650ad4a",
   "metadata": {},
   "outputs": [
    {
     "data": {
      "text/plain": [
       "47.0"
      ]
     },
     "execution_count": 22,
     "metadata": {},
     "output_type": "execute_result"
    }
   ],
   "source": [
    "np.mean(arr)"
   ]
  },
  {
   "cell_type": "code",
   "execution_count": 23,
   "id": "6ef789c5-a5b1-4894-82ac-0027834c5450",
   "metadata": {},
   "outputs": [
    {
     "data": {
      "text/plain": [
       "19"
      ]
     },
     "execution_count": 23,
     "metadata": {},
     "output_type": "execute_result"
    }
   ],
   "source": [
    "np.min(arr)"
   ]
  },
  {
   "cell_type": "code",
   "execution_count": 24,
   "id": "1cb20da4-147b-4f2d-a457-9afb4f696c8a",
   "metadata": {},
   "outputs": [
    {
     "data": {
      "text/plain": [
       "89"
      ]
     },
     "execution_count": 24,
     "metadata": {},
     "output_type": "execute_result"
    }
   ],
   "source": [
    "np.max(arr)"
   ]
  },
  {
   "cell_type": "code",
   "execution_count": 25,
   "id": "1b5e0176-eee0-4fb3-8704-127ddff079ab",
   "metadata": {},
   "outputs": [
    {
     "data": {
      "text/plain": [
       "22.05836414087474"
      ]
     },
     "execution_count": 25,
     "metadata": {},
     "output_type": "execute_result"
    }
   ],
   "source": [
    "np.std(arr)"
   ]
  },
  {
   "cell_type": "code",
   "execution_count": 26,
   "id": "c03f3290-9389-40b9-bf31-a0f084574b63",
   "metadata": {},
   "outputs": [
    {
     "data": {
      "text/plain": [
       "486.57142857142856"
      ]
     },
     "execution_count": 26,
     "metadata": {},
     "output_type": "execute_result"
    }
   ],
   "source": [
    "np.var(arr)"
   ]
  },
  {
   "cell_type": "code",
   "execution_count": 27,
   "id": "c2eddf20-133a-44ec-9175-534866bc0c1f",
   "metadata": {},
   "outputs": [
    {
     "data": {
      "text/plain": [
       "329"
      ]
     },
     "execution_count": 27,
     "metadata": {},
     "output_type": "execute_result"
    }
   ],
   "source": [
    "np.sum(arr)"
   ]
  },
  {
   "cell_type": "code",
   "execution_count": 28,
   "id": "da927357-ca50-4021-9d5f-8af888df660c",
   "metadata": {},
   "outputs": [
    {
     "data": {
      "text/plain": [
       "-1290542080"
      ]
     },
     "execution_count": 28,
     "metadata": {},
     "output_type": "execute_result"
    }
   ],
   "source": [
    "np.prod(arr)"
   ]
  },
  {
   "cell_type": "code",
   "execution_count": 29,
   "id": "4346551c-04d4-451a-89df-239f2f302c56",
   "metadata": {},
   "outputs": [
    {
     "data": {
      "text/plain": [
       "45.0"
      ]
     },
     "execution_count": 29,
     "metadata": {},
     "output_type": "execute_result"
    }
   ],
   "source": [
    "np.median(arr)"
   ]
  },
  {
   "cell_type": "code",
   "execution_count": 30,
   "id": "c8394458-1501-45a4-90d3-566c7a65830b",
   "metadata": {},
   "outputs": [
    {
     "data": {
      "text/plain": [
       "45.0"
      ]
     },
     "execution_count": 30,
     "metadata": {},
     "output_type": "execute_result"
    }
   ],
   "source": [
    "np.percentile(arr,50)"
   ]
  },
  {
   "cell_type": "code",
   "execution_count": 31,
   "id": "8e525d28-4407-4968-a4a4-d9c4cdc21710",
   "metadata": {},
   "outputs": [
    {
     "data": {
      "text/plain": [
       "4"
      ]
     },
     "execution_count": 31,
     "metadata": {},
     "output_type": "execute_result"
    }
   ],
   "source": [
    "np.argmin(arr)"
   ]
  },
  {
   "cell_type": "code",
   "execution_count": 32,
   "id": "90e18512-f490-4e87-9189-9f841bcf1ae3",
   "metadata": {},
   "outputs": [
    {
     "data": {
      "text/plain": [
       "3"
      ]
     },
     "execution_count": 32,
     "metadata": {},
     "output_type": "execute_result"
    }
   ],
   "source": [
    "np.argmax(arr)"
   ]
  },
  {
   "cell_type": "code",
   "execution_count": 33,
   "id": "e1261c95-15c6-4568-8d36-8c70f23af070",
   "metadata": {},
   "outputs": [
    {
     "data": {
      "text/plain": [
       "array([19, 32, 45, 67, 89])"
      ]
     },
     "execution_count": 33,
     "metadata": {},
     "output_type": "execute_result"
    }
   ],
   "source": [
    "np.unique(arr)"
   ]
  },
  {
   "cell_type": "code",
   "execution_count": 34,
   "id": "42083525-f520-495b-ae04-e6b9241e857a",
   "metadata": {},
   "outputs": [
    {
     "data": {
      "text/plain": [
       "array([ 45,  77, 144, 233, 252, 284, 329])"
      ]
     },
     "execution_count": 34,
     "metadata": {},
     "output_type": "execute_result"
    }
   ],
   "source": [
    "np.cumsum(arr)"
   ]
  },
  {
   "cell_type": "code",
   "execution_count": null,
   "id": "1b204de7-0879-49c3-9e2a-3094cae13ad3",
   "metadata": {},
   "outputs": [],
   "source": []
  }
 ],
 "metadata": {
  "kernelspec": {
   "display_name": "Python [conda env:base] *",
   "language": "python",
   "name": "conda-base-py"
  },
  "language_info": {
   "codemirror_mode": {
    "name": "ipython",
    "version": 3
   },
   "file_extension": ".py",
   "mimetype": "text/x-python",
   "name": "python",
   "nbconvert_exporter": "python",
   "pygments_lexer": "ipython3",
   "version": "3.12.7"
  }
 },
 "nbformat": 4,
 "nbformat_minor": 5
}
