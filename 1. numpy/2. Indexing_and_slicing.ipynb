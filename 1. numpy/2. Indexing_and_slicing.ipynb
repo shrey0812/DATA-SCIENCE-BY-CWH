{
 "cells": [
  {
   "cell_type": "code",
   "execution_count": 1,
   "id": "5be69420-3d2c-46cc-b3d4-b4d63af5c970",
   "metadata": {},
   "outputs": [],
   "source": [
    "import numpy as np \n",
    "arr = np.array([[1,2,3],[4,5,6],[7,8,9],[10,11,12]])"
   ]
  },
  {
   "cell_type": "code",
   "execution_count": 2,
   "id": "24738605-46ee-4a45-aab6-34f58862c6ef",
   "metadata": {},
   "outputs": [
    {
     "data": {
      "text/plain": [
       "array([[ 1,  2,  3],\n",
       "       [ 4,  5,  6],\n",
       "       [ 7,  8,  9],\n",
       "       [10, 11, 12]])"
      ]
     },
     "execution_count": 2,
     "metadata": {},
     "output_type": "execute_result"
    }
   ],
   "source": [
    "arr"
   ]
  },
  {
   "cell_type": "code",
   "execution_count": 3,
   "id": "76376728-42b5-4e57-b7bc-029ce12a0abb",
   "metadata": {},
   "outputs": [],
   "source": [
    "flat = arr.flatten()"
   ]
  },
  {
   "cell_type": "code",
   "execution_count": 4,
   "id": "300e4834-5762-4f9a-9b43-d4bba5fea087",
   "metadata": {},
   "outputs": [
    {
     "data": {
      "text/plain": [
       "array([ 1,  2,  3,  4,  5,  6,  7,  8,  9, 10, 11, 12])"
      ]
     },
     "execution_count": 4,
     "metadata": {},
     "output_type": "execute_result"
    }
   ],
   "source": [
    "flat"
   ]
  },
  {
   "cell_type": "code",
   "execution_count": 5,
   "id": "a9d60d2e-1549-4883-9f19-66dc9e5ba8cc",
   "metadata": {},
   "outputs": [
    {
     "data": {
      "text/plain": [
       "1"
      ]
     },
     "execution_count": 5,
     "metadata": {},
     "output_type": "execute_result"
    }
   ],
   "source": [
    "flat[0]"
   ]
  },
  {
   "cell_type": "code",
   "execution_count": 6,
   "id": "f340c5bd-3024-425f-8f4f-39473d6328a7",
   "metadata": {},
   "outputs": [
    {
     "data": {
      "text/plain": [
       "2"
      ]
     },
     "execution_count": 6,
     "metadata": {},
     "output_type": "execute_result"
    }
   ],
   "source": [
    "flat[1]"
   ]
  },
  {
   "cell_type": "code",
   "execution_count": 7,
   "id": "f2519cb6-f5a5-4496-8ebc-bf35ee21369d",
   "metadata": {},
   "outputs": [
    {
     "data": {
      "text/plain": [
       "5"
      ]
     },
     "execution_count": 7,
     "metadata": {},
     "output_type": "execute_result"
    }
   ],
   "source": [
    "flat[4]"
   ]
  },
  {
   "cell_type": "code",
   "execution_count": 8,
   "id": "02b795e0-9feb-4d4f-923e-be5cb036df40",
   "metadata": {},
   "outputs": [
    {
     "data": {
      "text/plain": [
       "array([4, 5, 6])"
      ]
     },
     "execution_count": 8,
     "metadata": {},
     "output_type": "execute_result"
    }
   ],
   "source": [
    "flat[3:6]"
   ]
  },
  {
   "cell_type": "code",
   "execution_count": 11,
   "id": "5ec0639e-e107-4175-8397-1b823562f169",
   "metadata": {},
   "outputs": [
    {
     "data": {
      "text/plain": [
       "array([1, 2, 3, 4, 5, 6])"
      ]
     },
     "execution_count": 11,
     "metadata": {},
     "output_type": "execute_result"
    }
   ],
   "source": [
    "flat[:6] # same as flat[0:5]"
   ]
  },
  {
   "cell_type": "code",
   "execution_count": 13,
   "id": "a42c83da-afd1-45af-b6e2-2752eb07ba90",
   "metadata": {},
   "outputs": [
    {
     "data": {
      "text/plain": [
       "array([ 4,  5,  6,  7,  8,  9, 10, 11, 12])"
      ]
     },
     "execution_count": 13,
     "metadata": {},
     "output_type": "execute_result"
    }
   ],
   "source": [
    "flat[3:] # same as flat[3:len()]"
   ]
  },
  {
   "cell_type": "code",
   "execution_count": 15,
   "id": "66a0ae05-129c-4f46-8900-0bd0370cfb3c",
   "metadata": {},
   "outputs": [
    {
     "data": {
      "text/plain": [
       "array([ 1,  4,  7, 10])"
      ]
     },
     "execution_count": 15,
     "metadata": {},
     "output_type": "execute_result"
    }
   ],
   "source": [
    "flat[::3]"
   ]
  },
  {
   "cell_type": "code",
   "execution_count": 16,
   "id": "0a22a05e-554a-4465-9c7f-24f6a0746b42",
   "metadata": {},
   "outputs": [
    {
     "data": {
      "text/plain": [
       "array([3, 5, 7])"
      ]
     },
     "execution_count": 16,
     "metadata": {},
     "output_type": "execute_result"
    }
   ],
   "source": [
    "flat[2:8:2]"
   ]
  },
  {
   "cell_type": "code",
   "execution_count": 17,
   "id": "e7a3476f-0efa-41c0-85f6-82f1af24e606",
   "metadata": {},
   "outputs": [
    {
     "data": {
      "text/plain": [
       "array([ 1,  2,  3,  4,  5,  6,  7,  8,  9, 10, 11, 12])"
      ]
     },
     "execution_count": 17,
     "metadata": {},
     "output_type": "execute_result"
    }
   ],
   "source": [
    "flat"
   ]
  },
  {
   "cell_type": "code",
   "execution_count": 18,
   "id": "e04ebd4e-39f9-4b56-99df-369575643050",
   "metadata": {},
   "outputs": [
    {
     "data": {
      "text/plain": [
       "array([4, 5, 6, 7])"
      ]
     },
     "execution_count": 18,
     "metadata": {},
     "output_type": "execute_result"
    }
   ],
   "source": [
    "b = flat[3:7]\n",
    "b"
   ]
  },
  {
   "cell_type": "code",
   "execution_count": 21,
   "id": "db0f1d56-027c-42bf-bd92-7888d328df47",
   "metadata": {},
   "outputs": [
    {
     "data": {
      "text/plain": [
       "array([4444,    5,    6,    7])"
      ]
     },
     "execution_count": 21,
     "metadata": {},
     "output_type": "execute_result"
    }
   ],
   "source": [
    "b[0] = 4444\n",
    "b"
   ]
  },
  {
   "cell_type": "code",
   "execution_count": 22,
   "id": "e0df8ab3-5559-43a9-bc04-49c40d80691b",
   "metadata": {},
   "outputs": [
    {
     "data": {
      "text/plain": [
       "array([   1,    2,    3, 4444,    5,    6,    7,    8,    9,   10,   11,\n",
       "         12])"
      ]
     },
     "execution_count": 22,
     "metadata": {},
     "output_type": "execute_result"
    }
   ],
   "source": [
    "flat"
   ]
  },
  {
   "cell_type": "code",
   "execution_count": 23,
   "id": "19c7e1ba-c6ba-4982-9880-8f7deb45e662",
   "metadata": {},
   "outputs": [],
   "source": [
    "b = flat[2:8].copy()"
   ]
  },
  {
   "cell_type": "code",
   "execution_count": 24,
   "id": "e0e36d2d-4a14-4680-8c02-46ef8fd9d2a4",
   "metadata": {},
   "outputs": [
    {
     "data": {
      "text/plain": [
       "array([   3, 4444,    5,    6,    7,    8])"
      ]
     },
     "execution_count": 24,
     "metadata": {},
     "output_type": "execute_result"
    }
   ],
   "source": [
    "b"
   ]
  },
  {
   "cell_type": "code",
   "execution_count": 25,
   "id": "7550ddf3-3fbc-4ef8-b12d-318ae82177d6",
   "metadata": {},
   "outputs": [],
   "source": [
    "b[0] = 66666"
   ]
  },
  {
   "cell_type": "code",
   "execution_count": 26,
   "id": "31baffc6-7e74-4101-b77f-735afada0852",
   "metadata": {},
   "outputs": [
    {
     "data": {
      "text/plain": [
       "array([66666,  4444,     5,     6,     7,     8])"
      ]
     },
     "execution_count": 26,
     "metadata": {},
     "output_type": "execute_result"
    }
   ],
   "source": [
    "b"
   ]
  },
  {
   "cell_type": "code",
   "execution_count": 27,
   "id": "09d1e4c5-5d08-4a38-9774-07600835d676",
   "metadata": {},
   "outputs": [
    {
     "data": {
      "text/plain": [
       "array([   1,    2,    3, 4444,    5,    6,    7,    8,    9,   10,   11,\n",
       "         12])"
      ]
     },
     "execution_count": 27,
     "metadata": {},
     "output_type": "execute_result"
    }
   ],
   "source": [
    "flat"
   ]
  },
  {
   "cell_type": "code",
   "execution_count": 28,
   "id": "da5cb8fb-db3a-494d-9cd4-417584e3a9e1",
   "metadata": {},
   "outputs": [],
   "source": [
    "flat[3] = 4"
   ]
  },
  {
   "cell_type": "code",
   "execution_count": 29,
   "id": "ff5c249f-70fd-45ad-ae2a-728899be5780",
   "metadata": {},
   "outputs": [
    {
     "data": {
      "text/plain": [
       "array([ 1,  2,  3,  4,  5,  6,  7,  8,  9, 10, 11, 12])"
      ]
     },
     "execution_count": 29,
     "metadata": {},
     "output_type": "execute_result"
    }
   ],
   "source": [
    "flat"
   ]
  },
  {
   "cell_type": "code",
   "execution_count": 30,
   "id": "28e2aec3-7efa-48bb-bd2d-3627163c46fb",
   "metadata": {},
   "outputs": [],
   "source": [
    "arr = np.array([1,54,2,35,64,12,87,443,97,100])"
   ]
  },
  {
   "cell_type": "code",
   "execution_count": 33,
   "id": "17706bb3-7d83-4f64-adca-503de5264924",
   "metadata": {},
   "outputs": [
    {
     "data": {
      "text/plain": [
       "array([54, 64, 87])"
      ]
     },
     "execution_count": 33,
     "metadata": {},
     "output_type": "execute_result"
    }
   ],
   "source": [
    "arr[[1,4,6]]"
   ]
  },
  {
   "cell_type": "code",
   "execution_count": 36,
   "id": "22881cc0-5838-42b2-95e6-ee0bf2a4535d",
   "metadata": {},
   "outputs": [
    {
     "data": {
      "text/plain": [
       "array([ 54,  64,  87, 443,  97, 100])"
      ]
     },
     "execution_count": 36,
     "metadata": {},
     "output_type": "execute_result"
    }
   ],
   "source": [
    "arr[arr>50]"
   ]
  },
  {
   "cell_type": "code",
   "execution_count": 39,
   "id": "66ba472f-4125-4b03-a7b8-ab863682e07c",
   "metadata": {},
   "outputs": [
    {
     "data": {
      "text/plain": [
       "array([[1, 2, 3],\n",
       "       [4, 5, 6],\n",
       "       [7, 8, 9]])"
      ]
     },
     "execution_count": 39,
     "metadata": {},
     "output_type": "execute_result"
    }
   ],
   "source": [
    "# Create a 3X3 array filled with random numbers and print its shape\n",
    "ex1 = np.array([[1,2,3],[4,5,6],[7,8,9]])\n",
    "ex1"
   ]
  },
  {
   "cell_type": "code",
   "execution_count": 41,
   "id": "4bf8c062-f792-45a8-902a-48cad46b0d22",
   "metadata": {},
   "outputs": [
    {
     "data": {
      "text/plain": [
       "array([1.1, 2.2, 3.3, 4.4, 5.5, 6.6])"
      ]
     },
     "execution_count": 41,
     "metadata": {},
     "output_type": "execute_result"
    }
   ],
   "source": [
    "# convert an array of float to integers\n",
    "ex2 = np.array([1.1,2.2,3.3,4.4,5.5,6.6])\n",
    "ex2"
   ]
  },
  {
   "cell_type": "code",
   "execution_count": 43,
   "id": "499c6153-0bb6-477d-bcaf-b03e8afa6fef",
   "metadata": {},
   "outputs": [
    {
     "data": {
      "text/plain": [
       "array([1, 2, 3, 4, 5, 6])"
      ]
     },
     "execution_count": 43,
     "metadata": {},
     "output_type": "execute_result"
    }
   ],
   "source": [
    "ex2 = ex2.astype('int32')\n",
    "ex2"
   ]
  },
  {
   "cell_type": "code",
   "execution_count": 44,
   "id": "c54cee4f-b1f5-438d-a6d3-8083cdbfe5be",
   "metadata": {},
   "outputs": [
    {
     "data": {
      "text/plain": [
       "array([2, 4, 6])"
      ]
     },
     "execution_count": 44,
     "metadata": {},
     "output_type": "execute_result"
    }
   ],
   "source": [
    "# use fancy index to extract even number from array of 1 to 6\n",
    "ex3 = np.array([1,2,3,4,5,6])\n",
    "ex3[[1,3,5]]"
   ]
  },
  {
   "cell_type": "code",
   "execution_count": 46,
   "id": "3b6c4a2f-dfa1-4c0d-9c24-2f8007b4e049",
   "metadata": {},
   "outputs": [
    {
     "data": {
      "text/plain": [
       "array([[1, 2, 3],\n",
       "       [4, 5, 6],\n",
       "       [7, 8, 9]])"
      ]
     },
     "execution_count": 46,
     "metadata": {},
     "output_type": "execute_result"
    }
   ],
   "source": [
    "# reshape 1d array to array of 3X3 matrix\n",
    "ex4 = np.array([1,2,3,4,5,6,7,8,9])\n",
    "ex4.reshape((3,3))"
   ]
  },
  {
   "cell_type": "code",
   "execution_count": 48,
   "id": "3e22325a-f0b0-4dd6-9617-0f1838beee5d",
   "metadata": {},
   "outputs": [
    {
     "data": {
      "text/plain": [
       "array([ 56,  76,  89, 100, 567])"
      ]
     },
     "execution_count": 48,
     "metadata": {},
     "output_type": "execute_result"
    }
   ],
   "source": [
    "# use boolean masking to filter number greater than 50 in a array\n",
    "ex5 = np.array([1,34,56,76,35,89,100,567,23,45])\n",
    "ex5[ex5>50]"
   ]
  },
  {
   "cell_type": "code",
   "execution_count": null,
   "id": "c9dc6cf1-97ae-4fda-829e-139e07c8cdbf",
   "metadata": {},
   "outputs": [],
   "source": []
  }
 ],
 "metadata": {
  "kernelspec": {
   "display_name": "Python [conda env:base] *",
   "language": "python",
   "name": "conda-base-py"
  },
  "language_info": {
   "codemirror_mode": {
    "name": "ipython",
    "version": 3
   },
   "file_extension": ".py",
   "mimetype": "text/x-python",
   "name": "python",
   "nbconvert_exporter": "python",
   "pygments_lexer": "ipython3",
   "version": "3.12.7"
  }
 },
 "nbformat": 4,
 "nbformat_minor": 5
}
